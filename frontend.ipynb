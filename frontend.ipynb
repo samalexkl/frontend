{
 "cells": [
  {
   "cell_type": "code",
   "execution_count": 1,
   "id": "e3820e1e-8384-45e4-89cc-fbd11b201c57",
   "metadata": {},
   "outputs": [
    {
     "name": "stdout",
     "output_type": "stream",
     "text": [
      "Requirement already satisfied: streamlit in c:\\users\\administrador\\anaconda3\\lib\\site-packages (1.37.1)\n",
      "Requirement already satisfied: requests in c:\\users\\administrador\\anaconda3\\lib\\site-packages (2.32.3)\n",
      "Requirement already satisfied: altair<6,>=4.0 in c:\\users\\administrador\\anaconda3\\lib\\site-packages (from streamlit) (5.0.1)\n",
      "Requirement already satisfied: blinker<2,>=1.0.0 in c:\\users\\administrador\\anaconda3\\lib\\site-packages (from streamlit) (1.6.2)\n",
      "Requirement already satisfied: cachetools<6,>=4.0 in c:\\users\\administrador\\anaconda3\\lib\\site-packages (from streamlit) (5.3.3)\n",
      "Requirement already satisfied: click<9,>=7.0 in c:\\users\\administrador\\anaconda3\\lib\\site-packages (from streamlit) (8.1.7)\n",
      "Requirement already satisfied: numpy<3,>=1.20 in c:\\users\\administrador\\anaconda3\\lib\\site-packages (from streamlit) (1.26.4)\n",
      "Requirement already satisfied: packaging<25,>=20 in c:\\users\\administrador\\anaconda3\\lib\\site-packages (from streamlit) (24.1)\n",
      "Requirement already satisfied: pandas<3,>=1.3.0 in c:\\users\\administrador\\anaconda3\\lib\\site-packages (from streamlit) (2.2.2)\n",
      "Requirement already satisfied: pillow<11,>=7.1.0 in c:\\users\\administrador\\anaconda3\\lib\\site-packages (from streamlit) (10.4.0)\n",
      "Requirement already satisfied: protobuf<6,>=3.20 in c:\\users\\administrador\\anaconda3\\lib\\site-packages (from streamlit) (4.25.3)\n",
      "Requirement already satisfied: pyarrow>=7.0 in c:\\users\\administrador\\anaconda3\\lib\\site-packages (from streamlit) (16.1.0)\n",
      "Requirement already satisfied: rich<14,>=10.14.0 in c:\\users\\administrador\\anaconda3\\lib\\site-packages (from streamlit) (13.7.1)\n",
      "Requirement already satisfied: tenacity<9,>=8.1.0 in c:\\users\\administrador\\anaconda3\\lib\\site-packages (from streamlit) (8.2.3)\n",
      "Requirement already satisfied: toml<2,>=0.10.1 in c:\\users\\administrador\\anaconda3\\lib\\site-packages (from streamlit) (0.10.2)\n",
      "Requirement already satisfied: typing-extensions<5,>=4.3.0 in c:\\users\\administrador\\anaconda3\\lib\\site-packages (from streamlit) (4.11.0)\n",
      "Requirement already satisfied: gitpython!=3.1.19,<4,>=3.0.7 in c:\\users\\administrador\\anaconda3\\lib\\site-packages (from streamlit) (3.1.43)\n",
      "Requirement already satisfied: pydeck<1,>=0.8.0b4 in c:\\users\\administrador\\anaconda3\\lib\\site-packages (from streamlit) (0.8.0)\n",
      "Requirement already satisfied: tornado<7,>=6.0.3 in c:\\users\\administrador\\anaconda3\\lib\\site-packages (from streamlit) (6.4.1)\n",
      "Requirement already satisfied: watchdog<5,>=2.1.5 in c:\\users\\administrador\\anaconda3\\lib\\site-packages (from streamlit) (4.0.1)\n",
      "Requirement already satisfied: charset-normalizer<4,>=2 in c:\\users\\administrador\\anaconda3\\lib\\site-packages (from requests) (3.3.2)\n",
      "Requirement already satisfied: idna<4,>=2.5 in c:\\users\\administrador\\anaconda3\\lib\\site-packages (from requests) (3.7)\n",
      "Requirement already satisfied: urllib3<3,>=1.21.1 in c:\\users\\administrador\\anaconda3\\lib\\site-packages (from requests) (2.2.3)\n",
      "Requirement already satisfied: certifi>=2017.4.17 in c:\\users\\administrador\\anaconda3\\lib\\site-packages (from requests) (2024.8.30)\n",
      "Requirement already satisfied: jinja2 in c:\\users\\administrador\\anaconda3\\lib\\site-packages (from altair<6,>=4.0->streamlit) (3.1.4)\n",
      "Requirement already satisfied: jsonschema>=3.0 in c:\\users\\administrador\\anaconda3\\lib\\site-packages (from altair<6,>=4.0->streamlit) (4.23.0)\n",
      "Requirement already satisfied: toolz in c:\\users\\administrador\\anaconda3\\lib\\site-packages (from altair<6,>=4.0->streamlit) (0.12.0)\n",
      "Requirement already satisfied: colorama in c:\\users\\administrador\\anaconda3\\lib\\site-packages (from click<9,>=7.0->streamlit) (0.4.6)\n",
      "Requirement already satisfied: gitdb<5,>=4.0.1 in c:\\users\\administrador\\anaconda3\\lib\\site-packages (from gitpython!=3.1.19,<4,>=3.0.7->streamlit) (4.0.7)\n",
      "Requirement already satisfied: python-dateutil>=2.8.2 in c:\\users\\administrador\\anaconda3\\lib\\site-packages (from pandas<3,>=1.3.0->streamlit) (2.9.0.post0)\n",
      "Requirement already satisfied: pytz>=2020.1 in c:\\users\\administrador\\anaconda3\\lib\\site-packages (from pandas<3,>=1.3.0->streamlit) (2024.1)\n",
      "Requirement already satisfied: tzdata>=2022.7 in c:\\users\\administrador\\anaconda3\\lib\\site-packages (from pandas<3,>=1.3.0->streamlit) (2023.3)\n",
      "Requirement already satisfied: markdown-it-py>=2.2.0 in c:\\users\\administrador\\anaconda3\\lib\\site-packages (from rich<14,>=10.14.0->streamlit) (2.2.0)\n",
      "Requirement already satisfied: pygments<3.0.0,>=2.13.0 in c:\\users\\administrador\\anaconda3\\lib\\site-packages (from rich<14,>=10.14.0->streamlit) (2.15.1)\n",
      "Requirement already satisfied: smmap<5,>=3.0.1 in c:\\users\\administrador\\anaconda3\\lib\\site-packages (from gitdb<5,>=4.0.1->gitpython!=3.1.19,<4,>=3.0.7->streamlit) (4.0.0)\n",
      "Requirement already satisfied: MarkupSafe>=2.0 in c:\\users\\administrador\\anaconda3\\lib\\site-packages (from jinja2->altair<6,>=4.0->streamlit) (2.1.3)\n",
      "Requirement already satisfied: attrs>=22.2.0 in c:\\users\\administrador\\anaconda3\\lib\\site-packages (from jsonschema>=3.0->altair<6,>=4.0->streamlit) (23.1.0)\n",
      "Requirement already satisfied: jsonschema-specifications>=2023.03.6 in c:\\users\\administrador\\anaconda3\\lib\\site-packages (from jsonschema>=3.0->altair<6,>=4.0->streamlit) (2023.7.1)\n",
      "Requirement already satisfied: referencing>=0.28.4 in c:\\users\\administrador\\anaconda3\\lib\\site-packages (from jsonschema>=3.0->altair<6,>=4.0->streamlit) (0.30.2)\n",
      "Requirement already satisfied: rpds-py>=0.7.1 in c:\\users\\administrador\\anaconda3\\lib\\site-packages (from jsonschema>=3.0->altair<6,>=4.0->streamlit) (0.10.6)\n",
      "Requirement already satisfied: mdurl~=0.1 in c:\\users\\administrador\\anaconda3\\lib\\site-packages (from markdown-it-py>=2.2.0->rich<14,>=10.14.0->streamlit) (0.1.0)\n",
      "Requirement already satisfied: six>=1.5 in c:\\users\\administrador\\anaconda3\\lib\\site-packages (from python-dateutil>=2.8.2->pandas<3,>=1.3.0->streamlit) (1.16.0)\n"
     ]
    }
   ],
   "source": []
  },
  {
   "cell_type": "code",
   "execution_count": 1,
   "id": "b0fc1a8a-fa84-45a7-ac7c-b8e8ada8a7f9",
   "metadata": {},
   "outputs": [
    {
     "name": "stdout",
     "output_type": "stream",
     "text": [
      "Wed Jun 25 18:33:20 2025       \n",
      "+-----------------------------------------------------------------------------------------+\n",
      "| NVIDIA-SMI 566.36                 Driver Version: 566.36         CUDA Version: 12.7     |\n",
      "|-----------------------------------------+------------------------+----------------------+\n",
      "| GPU  Name                  Driver-Model | Bus-Id          Disp.A | Volatile Uncorr. ECC |\n",
      "| Fan  Temp   Perf          Pwr:Usage/Cap |           Memory-Usage | GPU-Util  Compute M. |\n",
      "|                                         |                        |               MIG M. |\n",
      "|=========================================+========================+======================|\n",
      "|   0  NVIDIA GeForce GTX 1650      WDDM  |   00000000:01:00.0 Off |                  N/A |\n",
      "| N/A   38C    P3             11W /   30W |       0MiB /   4096MiB |      0%      Default |\n",
      "|                                         |                        |                  N/A |\n",
      "+-----------------------------------------+------------------------+----------------------+\n",
      "                                                                                         \n",
      "+-----------------------------------------------------------------------------------------+\n",
      "| Processes:                                                                              |\n",
      "|  GPU   GI   CI        PID   Type   Process name                              GPU Memory |\n",
      "|        ID   ID                                                               Usage      |\n",
      "|=========================================================================================|\n",
      "|  No running processes found                                                             |\n",
      "+-----------------------------------------------------------------------------------------+\n"
     ]
    }
   ],
   "source": []
  },
  {
   "cell_type": "code",
   "execution_count": 2,
   "id": "aff2fd4c-4c2a-4dd3-a98e-417f00511e2b",
   "metadata": {},
   "outputs": [
    {
     "name": "stderr",
     "output_type": "stream",
     "text": [
      "2025-03-27 22:23:50.499 \n",
      "  \u001b[33m\u001b[1mWarning:\u001b[0m to view this Streamlit app on a browser, run it with the following\n",
      "  command:\n",
      "\n",
      "    streamlit run C:\\Users\\Administrador\\anaconda3\\Lib\\site-packages\\ipykernel_launcher.py [ARGUMENTS]\n",
      "2025-03-27 22:23:50.499 Session state does not function when running a script without `streamlit run`\n"
     ]
    }
   ],
   "source": [
    "\n"
   ]
  },
  {
   "cell_type": "code",
   "execution_count": 1,
   "id": "7c992f1c-4686-484d-aae2-df1d2890cb29",
   "metadata": {},
   "outputs": [
    {
     "data": {
      "text/html": [
       "\n",
       "<style>\n",
       "    .dark-container {\n",
       "        background-color: #121212;\n",
       "        color: #e0e0e0;\n",
       "        padding: 20px;\n",
       "        border-radius: 10px;\n",
       "        font-family: sans-serif;\n",
       "    }\n",
       "    .dark-result {\n",
       "        background-color: #333;\n",
       "        padding: 15px;\n",
       "        border-radius: 10px;\n",
       "        margin-bottom: 10px;\n",
       "    }\n",
       "    .dark-input {\n",
       "        background-color: #1e1e1e;\n",
       "        color: #e0e0e0;\n",
       "        border: 1px solid #333;\n",
       "        border-radius: 5px;\n",
       "        padding: 10px;\n",
       "    }\n",
       "</style>\n"
      ],
      "text/plain": [
       "<IPython.core.display.HTML object>"
      ]
     },
     "metadata": {},
     "output_type": "display_data"
    },
    {
     "data": {
      "text/html": [
       "<div class='dark-container'>"
      ],
      "text/plain": [
       "<IPython.core.display.HTML object>"
      ]
     },
     "metadata": {},
     "output_type": "display_data"
    },
    {
     "data": {
      "application/vnd.jupyter.widget-view+json": {
       "model_id": "82aada2a1627487fab8e7f2749fe1ad7",
       "version_major": 2,
       "version_minor": 0
      },
      "text/plain": [
       "Textarea(value='', description='Prompt:', layout=Layout(height='100px', width='100%'), placeholder='Escribe tu…"
      ]
     },
     "metadata": {},
     "output_type": "display_data"
    },
    {
     "data": {
      "application/vnd.jupyter.widget-view+json": {
       "model_id": "cbf782cd3fe94e299cbe8976b96caed0",
       "version_major": 2,
       "version_minor": 0
      },
      "text/plain": [
       "Button(button_style='primary', description='Generar Texto', style=ButtonStyle())"
      ]
     },
     "metadata": {},
     "output_type": "display_data"
    },
    {
     "data": {
      "application/vnd.jupyter.widget-view+json": {
       "model_id": "abab2b5203aa4c3ab1c87996488062cf",
       "version_major": 2,
       "version_minor": 0
      },
      "text/plain": [
       "Output()"
      ]
     },
     "metadata": {},
     "output_type": "display_data"
    },
    {
     "data": {
      "text/html": [
       "</div>"
      ],
      "text/plain": [
       "<IPython.core.display.HTML object>"
      ]
     },
     "metadata": {},
     "output_type": "display_data"
    }
   ],
   "source": [
    "\n"
   ]
  },
  {
   "cell_type": "code",
   "execution_count": 3,
   "id": "210952c2-0b54-4a9d-a9e5-5a4700f2a229",
   "metadata": {},
   "outputs": [
    {
     "name": "stdout",
     "output_type": "stream",
     "text": [
      "Requirement already satisfied: jupyterlab_widgets in c:\\users\\administrador\\anaconda3\\lib\\site-packages (1.0.0)\n",
      "\n"
     ]
    },
    {
     "name": "stderr",
     "output_type": "stream",
     "text": [
      "(Deprecated) Installing extensions with the jupyter labextension install command is now deprecated and will be removed in a future major version of JupyterLab.\n",
      "\n",
      "Users should manage prebuilt extensions with package managers like pip and conda, and extension authors are encouraged to distribute their extensions as prebuilt packages \n",
      "Building jupyterlab assets (production, minimized)\n"
     ]
    }
   ],
   "source": [
    "\n"
   ]
  },
  {
   "cell_type": "code",
   "execution_count": 4,
   "id": "d1feeefc-603e-442a-9011-34e110faf0f1",
   "metadata": {},
   "outputs": [],
   "source": [
    "\n"
   ]
  },
  {
   "cell_type": "code",
   "execution_count": 7,
   "id": "863f631e-333f-4997-9e78-7623873dd8c2",
   "metadata": {},
   "outputs": [],
   "source": [
    "\n"
   ]
  },
  {
   "cell_type": "code",
   "execution_count": 30,
   "id": "33fca78a-36b8-4bda-856d-008dc6f9bfd3",
   "metadata": {},
   "outputs": [],
   "source": [
    "\n"
   ]
  },
  {
   "cell_type": "code",
   "execution_count": 4,
   "id": "47f335f1-e96f-4ec7-9022-7030c5216a92",
   "metadata": {},
   "outputs": [],
   "source": [
    "\n"
   ]
  },
  {
   "cell_type": "code",
   "execution_count": null,
   "id": "f56cbabc-cbd9-4711-a7b4-31320e494339",
   "metadata": {},
   "outputs": [],
   "source": []
  },
  {
   "cell_type": "code",
   "execution_count": null,
   "id": "ea6084a8-54b5-4077-966f-acb3ef074648",
   "metadata": {},
   "outputs": [],
   "source": []
  },
  {
   "cell_type": "code",
   "execution_count": 6,
   "id": "f26a6d60-4718-47e6-89f1-165f08935627",
   "metadata": {},
   "outputs": [],
   "source": [
    "\n"
   ]
  },
  {
   "cell_type": "code",
   "execution_count": 1,
   "id": "41106576-7eef-401d-8f76-dadaf85daa1d",
   "metadata": {},
   "outputs": [],
   "source": [
    "\n"
   ]
  },
  {
   "cell_type": "code",
   "execution_count": null,
   "id": "3e7f6383-1ee2-4238-922e-450e3a9e8913",
   "metadata": {},
   "outputs": [],
   "source": []
  },
  {
   "cell_type": "code",
   "execution_count": null,
   "id": "ace94c4f-7dab-4327-be81-58c23f7343f4",
   "metadata": {},
   "outputs": [],
   "source": []
  },
  {
   "cell_type": "code",
   "execution_count": null,
   "id": "43ced56d-6c95-4d92-848e-6b0d8d39a173",
   "metadata": {},
   "outputs": [],
   "source": []
  },
  {
   "cell_type": "code",
   "execution_count": null,
   "id": "40a51ff9-2c0b-4b93-9e0a-7a4f75b9d4dc",
   "metadata": {},
   "outputs": [],
   "source": []
  },
  {
   "cell_type": "code",
   "execution_count": 29,
   "id": "10d18387-39d4-4f27-a9dd-60a149716778",
   "metadata": {},
   "outputs": [
    {
     "ename": "SyntaxError",
     "evalue": "unterminated f-string literal (detected at line 82) (3264781357.py, line 82)",
     "output_type": "error",
     "traceback": [
      "\u001b[1;36m  Cell \u001b[1;32mIn[29], line 82\u001b[1;36m\u001b[0m\n\u001b[1;33m    text=f\" Respuesta {idx+1}:\u001b[0m\n\u001b[1;37m         ^\u001b[0m\n\u001b[1;31mSyntaxError\u001b[0m\u001b[1;31m:\u001b[0m unterminated f-string literal (detected at line 82)\n"
     ]
    }
   ],
   "source": []
  },
  {
   "cell_type": "code",
   "execution_count": 30,
   "id": "86902cc0-e0ef-4ae2-9fa4-e5d6432dc422",
   "metadata": {},
   "outputs": [
    {
     "ename": "SyntaxError",
     "evalue": "closing parenthesis ']' does not match opening parenthesis '{' on line 100 (2001230850.py, line 107)",
     "output_type": "error",
     "traceback": [
      "\u001b[1;36m  Cell \u001b[1;32mIn[30], line 107\u001b[1;36m\u001b[0m\n\u001b[1;33m    ],\u001b[0m\n\u001b[1;37m    ^\u001b[0m\n\u001b[1;31mSyntaxError\u001b[0m\u001b[1;31m:\u001b[0m closing parenthesis ']' does not match opening parenthesis '{' on line 100\n"
     ]
    }
   ],
   "source": []
  },
  {
   "cell_type": "code",
   "execution_count": 25,
   "id": "15dc1b78-b245-42aa-a7f8-019a2025378f",
   "metadata": {},
   "outputs": [],
   "source": []
  },
  {
   "cell_type": "code",
   "execution_count": null,
   "id": "3d978e65-3dd7-4a3e-8811-67a660ef9cd1",
   "metadata": {},
   "outputs": [],
   "source": []
  },
  {
   "cell_type": "code",
   "execution_count": 30,
   "id": "3c62d739-5f37-4598-9925-89ac720cee62",
   "metadata": {},
   "outputs": [],
   "source": [
    "import tkinter as tk\n",
    "from tkinter import ttk, simpledialog, messagebox\n",
    "from PIL import Image, ImageTk\n",
    "import requests\n",
    "from io import BytesIO\n",
    "import os\n",
    "from urllib.parse import urljoin\n",
    "\n",
    "# Base de la URL de tu API (sin endpoint)\n",
    "BASE_ENDPOINT = \"https://5d26-193-147-26-250.ngrok-free.app\"\n",
    "\n",
    "# Configuración principal de la ventana\n",
    "root = tk.Tk()\n",
    "root.title(\"Visor de Imágenes y Respuesta Janus\")\n",
    "root.geometry(\"700x900\")\n",
    "root.configure(bg=\"#1e1e1e\")\n",
    "\n",
    "# Etiqueta de estado\n",
    "status_label = tk.Label(root, text=\"\", fg=\"white\", bg=\"#1e1e1e\", font=(\"Arial\", 12))\n",
    "status_label.pack(pady=5)\n",
    "\n",
    "# Contenedor con scrollbar\n",
    "tk_container = tk.Frame(root)\n",
    "tk_container.pack(fill=\"both\", expand=True, padx=10, pady=10)\n",
    "canvas = tk.Canvas(tk_container, bg=\"#1e1e1e\")\n",
    "scrollbar = ttk.Scrollbar(tk_container, orient=\"vertical\", command=canvas.yview)\n",
    "scrollable_frame = tk.Frame(canvas, bg=\"#1e1e1e\")\n",
    "scrollable_frame.bind(\n",
    "    \"<Configure>\",\n",
    "    lambda e: canvas.configure(scrollregion=canvas.bbox(\"all\"))\n",
    ")\n",
    "canvas.create_window((0, 0), window=scrollable_frame, anchor=\"nw\")\n",
    "canvas.configure(yscrollcommand=scrollbar.set)\n",
    "canvas.pack(side=\"left\", fill=\"both\", expand=True)\n",
    "scrollbar.pack(side=\"right\", fill=\"y\")\n",
    "\n",
    "# ----------- Función Principal -----------\n",
    "def ejecutar_pipeline(endpoint_path, prompt_data, question, numbers=None):\n",
    "    status_label.config(text=\"⌛ Generando imágenes y esperando respuesta...\", fg=\"white\")\n",
    "    root.update()\n",
    "    API_URL = BASE_ENDPOINT + endpoint_path\n",
    "    payload = {\"prompts\": prompt_data, \"question\": question}\n",
    "    if numbers is not None:\n",
    "        payload[\"numbers\"] = numbers\n",
    "    try:\n",
    "        resp = requests.post(API_URL, json=payload)\n",
    "        resp.raise_for_status()\n",
    "        data = resp.json()\n",
    "        images = data.get(\"generated_images\", [])\n",
    "        answers = data.get(\"answers\", [])\n",
    "        for w in scrollable_frame.winfo_children(): w.destroy()\n",
    "        for idx, img_path in enumerate(images):\n",
    "            img_url = img_path if img_path.startswith(\"http\") else urljoin(BASE_ENDPOINT, f\"/files/{os.path.basename(img_path)}\")\n",
    "            try:\n",
    "                img_data = requests.get(img_url).content\n",
    "                img = Image.open(BytesIO(img_data)).resize((256, 256))\n",
    "                img_tk = ImageTk.PhotoImage(img)\n",
    "                lbl_img = tk.Label(scrollable_frame, image=img_tk, bg=\"#2d2d2d\")\n",
    "                lbl_img.image = img_tk\n",
    "                lbl_img.pack(pady=5)\n",
    "            except Exception as e:\n",
    "                tk.Label(scrollable_frame, text=f\"Error cargando imagen: {e}\", fg=\"red\", bg=\"#1e1e1e\").pack(pady=5)\n",
    "            answer_text = answers[idx] if idx < len(answers) else \"No response\"\n",
    "            tk.Label(scrollable_frame, text=f\"🧠 Respuesta {idx+1}:\\n{answer_text}\", fg=\"lightgreen\", bg=\"#1e1e1e\", font=(\"Arial\",12), wraplength=600, justify=\"left\").pack(pady=(0,15))\n",
    "        status_label.config(text=\"✅ Proceso completado\", fg=\"lightgreen\")\n",
    "    except Exception as e:\n",
    "        status_label.config(text=f\"❌ Error: {e}\", fg=\"red\")\n",
    "\n",
    "# ----------- Handler para el primer botón -----------\n",
    "def handler_primer_boton():\n",
    "    # Pedir 3 prompts manuales\n",
    "    prompts = []\n",
    "    for i in range(1, 4):\n",
    "        p = simpledialog.askstring(\"Prompt Manual\", f\"Introduce el prompt {i}:\")\n",
    "        if p is None:\n",
    "            return\n",
    "        prompts.append(p)\n",
    "    # Pedir lista de números\n",
    "    nums_str = simpledialog.askstring(\"Lista de Números\", \"Introduce una lista de números separados por coma, ej: 1,2,3,4:\")\n",
    "    if nums_str is None:\n",
    "        return\n",
    "    try:\n",
    "        numbers = [int(x.strip()) for x in nums_str.split(\",\") if x.strip()]\n",
    "        if not numbers:\n",
    "            raise ValueError\n",
    "    except ValueError:\n",
    "        messagebox.showerror(\"Error\", \"Debes introducir al menos un número válido separado por coma.\")\n",
    "        return\n",
    "    # Ejecutar pipeline con prompts y lista de números\n",
    "    ejecutar_pipeline(\n",
    "        endpoint_path=\"/generate_full\",\n",
    "        prompt_data=prompts,\n",
    "        question=\"tell me a story about the pic\",\n",
    "        numbers=numbers\n",
    "    )\n",
    "\n",
    "def handler_segundo_boton():\n",
    "    # Pedir 3 prompts manuales\n",
    "    prompts = []\n",
    "    for i in range(1, 4):\n",
    "        p = simpledialog.askstring(\"Prompt Manual\", f\"Introduce el prompt {i}:\")\n",
    "        if p is None:\n",
    "            return\n",
    "        prompts.append(p)\n",
    "    # Pedir lista de números\n",
    "    nums_str = simpledialog.askstring(\"Lista de Números\", \"Introduce una lista de números separados por coma, ej: 1,2,3,4:\")\n",
    "    if nums_str is None:\n",
    "        return\n",
    "    try:\n",
    "        numbers = [int(x.strip()) for x in nums_str.split(\",\") if x.strip()]\n",
    "        if not numbers:\n",
    "            raise ValueError\n",
    "    except ValueError:\n",
    "        messagebox.showerror(\"Error\", \"Debes introducir al menos un número válido separado por coma.\")\n",
    "        return\n",
    "    # Ejecutar pipeline con prompts y lista de números\n",
    "    ejecutar_pipeline(\n",
    "        endpoint_path=\"/generate_custom\",\n",
    "        prompt_data=prompts,\n",
    "        question=\"tell me a story about the pic\",\n",
    "        numbers=numbers\n",
    "    )\n",
    "\n",
    "# ----------- Configuración de botones -----------\n",
    "BUTTON_CONFIGS = [\n",
    "    {\"text\": \" Fusion XL+FKConform\", \"command\": handler_primer_boton},\n",
    "    {\"text\": \" Fusion FK+Conform+LCM\", \"command\": handler_segundo_boton},\n",
    "    {\"text\": \"Lovecraft\", \"endpoint\": \"/generate_and_answer\", \"prompt_data\": [\"an image of a scene from lovecraft, first scene\", \"an image of a scene from lovecraft, mid scene\", \"an image of a scene from lovecraft, there is a monster\"], \"question\": \"tell me a story about this pic \"},\n",
    "    {\"text\": \" Epic Fantasy\", \"endpoint\": \"/generate_and_answer\", \"prompt_data\": [\"An epic fantasy landscape at dawn, a young warrior standing at the edge of an ancient forest, a glowing map in hand, mist rising from the trees, distant mountains under a golden sky, magical birds flying overhead, sense of adventure and mystery, ultra-detailed, cinematic light, fantasy concept art, ArtStation, 8k\", \"A vast enchanted battlefield under a stormy sky, the warrior now in ornate armor leading a small group of companions, dark creatures emerging from a portal, lightning strikes in the distance, floating ruins and magical runes glowing red, tension and danger, epic lighting, ultra-detailed fantasy art, dark fantasy tone, 8k, high realism\", \"A dramatic mountaintop at sunset, the warrior standing victorious with a glowing sword, wounded but proud, the broken portal behind him, golden light illuminating the battlefield, remnants of the magical storm clearing, companions celebrating or mourning, epic closure, cinematic composition, highly detailed, fantasy concept art, 8k resolution\"], \"question\": \"tell me a story about this pic \"},\n",
    "    {\"text\": \" Folk Story\", \"endpoint\": \"/generate_and_answer\", \"prompt_data\": [\"A cheerful countryside in spring, a curious child walking through a colorful meadow, tiny fairies fluttering among glowing mushrooms, a cozy village in the background, bright daylight, playful animals watching, a sense of wonder and innocence, whimsical style, storybook illustration, highly detailed, soft colors, 8k, fantasy folklore art\", \"A magical forest filled with talking animals and glowing plants, the child exploring a winding path under a canopy of golden leaves, mysterious lights leading the way, a wise old owl perched on a twisted branch, soft magical glow, friendly forest creatures surrounding the child, storybook fantasy, vibrant colors, richly detailed, folklore art style, 8k\", \"A peaceful clearing under the stars, the child receiving a glowing crystal from a fairy queen, gentle moonlight illuminating the scene, the enchanted forest calm and sparkling with magic, forest creatures celebrating, warm and joyful mood, fairy-tale illustration, charming and colorful, detailed storybook style, 8k resolution\"], \"question\": \"tell me a story about this pic \"}\n",
    "]\n",
    "    \n",
    "\n",
    "btn_frame = tk.Frame(root, bg=\"#1e1e1e\")\n",
    "btn_frame.pack(pady=15)\n",
    "for idx, cfg in enumerate(BUTTON_CONFIGS):\n",
    "    cmd = cfg.get(\"command\") if cfg.get(\"command\") else lambda c=cfg: ejecutar_pipeline(c[\"endpoint\"], c[\"prompt_data\"], c[\"question\"])\n",
    "    btn = tk.Button(btn_frame, text=cfg[\"text\"], command=cmd, bg=\"#444\", fg=\"white\", font=(\"Arial\",12), width=25)\n",
    "    btn.grid(row=idx//2, column=idx%2, padx=10, pady=5)\n",
    "root.mainloop()\n",
    "\n"
   ]
  },
  {
   "cell_type": "code",
   "execution_count": 32,
   "id": "77611b95-c7e5-45bb-9e57-2ee8dcaa6c01",
   "metadata": {},
   "outputs": [
    {
     "name": "stdout",
     "output_type": "stream",
     "text": [
      ".dockerignore creado.\n"
     ]
    }
   ],
   "source": [
    "dockerignore = \"\"\"\n",
    "__pycache__/\n",
    "*.pyc\n",
    ".ipynb_checkpoints/\n",
    "data/\n",
    "outputs/\n",
    "\"\"\"\n",
    "with open('.dockerignore', 'w') as f:\n",
    "    f.write(dockerignore.strip())\n",
    "print(\".dockerignore creado.\")\n",
    "\n"
   ]
  },
  {
   "cell_type": "code",
   "execution_count": 33,
   "id": "d1e7ee54-d4d0-4d85-8fd2-efbedff0e092",
   "metadata": {},
   "outputs": [
    {
     "name": "stdout",
     "output_type": "stream",
     "text": [
      "Dockerfile creado.\n"
     ]
    }
   ],
   "source": [
    "dockerfile = \"\"\"\n",
    "# 1) Base\n",
    "FROM python:3.10-slim\n",
    "\n",
    "# 2) Directorio de trabajo\n",
    "WORKDIR /app\n",
    "\n",
    "# 3) Copiar dependencias y .dockerignore\n",
    "COPY requirements.txt ./\n",
    "RUN pip install --no-cache-dir -r requirements.txt\n",
    "\n",
    "# 4) Copiar tu notebook, scripts y demás\n",
    "COPY . .\n",
    "\n",
    "# 5) Exponer puerto Jupyter\n",
    "EXPOSE 8888\n",
    "\n",
    "# 6) Comando por defecto\n",
    "CMD [\"jupyter\", \"lab\", \"--ip=0.0.0.0\", \"--allow-root\", \"--no-browser\"]\n",
    "\"\"\"\n",
    "with open('Dockerfile', 'w') as f:\n",
    "    f.write(dockerfile.strip())\n",
    "print(\"Dockerfile creado.\")\n"
   ]
  },
  {
   "cell_type": "code",
   "execution_count": 34,
   "id": "bf83b846-5733-4f12-aae4-45ec6eabec35",
   "metadata": {},
   "outputs": [
    {
     "name": "stderr",
     "output_type": "stream",
     "text": [
      "\"docker\" no se reconoce como un comando interno o externo,\n",
      "programa o archivo por lotes ejecutable.\n"
     ]
    }
   ],
   "source": [
    "# Le damos un nombre a la imagen\n",
    "imagen = \"mi_pipeline_notebook:latest\"\n",
    "\n",
    "# Lanza el build de Docker\n",
    "!docker build -t {imagen} .\n"
   ]
  },
  {
   "cell_type": "code",
   "execution_count": null,
   "id": "139ea3c6-0fcd-49a6-92c1-4e43129d6a71",
   "metadata": {},
   "outputs": [],
   "source": []
  }
 ],
 "metadata": {
  "kernelspec": {
   "display_name": "Python 3 (ipykernel)",
   "language": "python",
   "name": "python3"
  },
  "language_info": {
   "codemirror_mode": {
    "name": "ipython",
    "version": 3
   },
   "file_extension": ".py",
   "mimetype": "text/x-python",
   "name": "python",
   "nbconvert_exporter": "python",
   "pygments_lexer": "ipython3",
   "version": "3.12.7"
  }
 },
 "nbformat": 4,
 "nbformat_minor": 5
}
